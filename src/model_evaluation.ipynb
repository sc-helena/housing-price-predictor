{
 "cells": [
  {
   "cell_type": "code",
   "execution_count": 1,
   "metadata": {},
   "outputs": [],
   "source": [
    "import pickle\n",
    "\n",
    "import pandas as pd\n",
    "\n",
    "from config import MODEL_PATH, TEST_DATA_PATH, TRAIN_DATA_PATH\n",
    "\n",
    "# load model\n",
    "model = pickle.load(open(MODEL_PATH, \"rb\"))\n",
    "\n",
    "# Read the CSV files back into DataFrames\n",
    "strat_train_set = pd.read_csv(TRAIN_DATA_PATH)\n",
    "strat_test_set = pd.read_csv(TEST_DATA_PATH)"
   ]
  },
  {
   "cell_type": "code",
   "execution_count": 4,
   "metadata": {},
   "outputs": [
    {
     "name": "stdout",
     "output_type": "stream",
     "text": [
      "MSE:  0.11598051724053238\n",
      "RMSE  0.3405591244417515\n"
     ]
    }
   ],
   "source": [
    "from sklearn.metrics import mean_squared_error, root_mean_squared_error\n",
    "\n",
    "predictions = model.predict(strat_test_set[[\"median_income\"]])\n",
    "housing_labels_test = strat_test_set[\"median_house_value\"]\n",
    "\n",
    "lin_rmse = mean_squared_error(housing_labels_test, predictions)\n",
    "rmse = root_mean_squared_error(housing_labels_test, predictions)\n",
    "\n",
    "print(\"MSE: \", lin_rmse)\n",
    "print(\"RMSE \", rmse)"
   ]
  }
 ],
 "metadata": {
  "kernelspec": {
   "display_name": ".venv",
   "language": "python",
   "name": "python3"
  },
  "language_info": {
   "codemirror_mode": {
    "name": "ipython",
    "version": 3
   },
   "file_extension": ".py",
   "mimetype": "text/x-python",
   "name": "python",
   "nbconvert_exporter": "python",
   "pygments_lexer": "ipython3",
   "version": "3.11.11"
  }
 },
 "nbformat": 4,
 "nbformat_minor": 2
}
